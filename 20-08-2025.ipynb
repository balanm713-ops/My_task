{
 "cells": [
  {
   "cell_type": "code",
   "execution_count": null,
   "id": "1e46546c",
   "metadata": {},
   "outputs": [
    {
     "name": "stdout",
     "output_type": "stream",
     "text": [
      "getting\n",
      "20000\n"
     ]
    }
   ],
   "source": [
    "# 3.Create a class Employee with a property salary. Use @property for getting and setting to ensure the salary is a positive number.\n",
    "\n",
    "\n",
    "class Employee:\n",
    "    def __init__(self,salary):\n",
    "        self.__salary = salary\n",
    "    \n",
    "    def get_sal(self):\n",
    "        return self.__salary\n",
    "    \n",
    "    def set_sal(self,salary):\n",
    "        self.__salary=salary\n",
    "        return self.__salary\n",
    "        print()\n",
    "    salary=property(get_sal,set_sal)\n",
    "\n",
    "\n",
    "amount = Employee(10000)\n",
    "amount.salary=20000\n",
    "print(amount.salary)\n",
    "\n"
   ]
  },
  {
   "cell_type": "code",
   "execution_count": 18,
   "id": "b0782f09",
   "metadata": {},
   "outputs": [
    {
     "name": "stdout",
     "output_type": "stream",
     "text": [
      "85\n",
      "Value must be between 0 and 100\n"
     ]
    }
   ],
   "source": [
    "# 3.Write a class with:\n",
    "# Custom decorator @validate(min=0, max=100) applied to a setter\n",
    "# @property and @setter for a score or percentage\n",
    "# Raise exceptions if the value is out of bounds.\n",
    "\n",
    "\n",
    "def validate(min=0, max=100):\n",
    "    def decorator(func):\n",
    "        def wrapper(self, value):\n",
    "            if not (min<= value <= max_value):\n",
    "                raise ValueError(f\"Value must be between {min} and {max}\")\n",
    "            return func(self, value) \n",
    "        return wrapper\n",
    "    return decorator\n",
    "\n",
    "\n",
    "class Student:\n",
    "    def __init__(self, score=0):\n",
    "        self._score = score  \n",
    "\n",
    "    @property\n",
    "    def score(self): \n",
    "        return self._score\n",
    "\n",
    "    @score.setter\n",
    "    @validate(min=0, max=100)  \n",
    "    def score(self, value):\n",
    "        self._score = value\n",
    "\n",
    "\n",
    "s = Student()\n",
    "s.score = 85 \n",
    "print(s.score)  \n",
    "\n",
    "try:\n",
    "    s.score = 150  \n",
    "except ValueError as e:\n",
    "    print(e)  \n"
   ]
  },
  {
   "cell_type": "code",
   "execution_count": 5,
   "id": "434ba448",
   "metadata": {},
   "outputs": [
    {
     "name": "stdout",
     "output_type": "stream",
     "text": [
      "your\n",
      "name\n",
      "14\n"
     ]
    }
   ],
   "source": [
    "def madhu(func):\n",
    "    def balan(*args,**kwargs):\n",
    "        print(\"your\")\n",
    "        output = func(*args,**kwargs)\n",
    "        print(\"name\")\n",
    "        return output\n",
    "    return balan\n",
    "\n",
    "class goks:\n",
    "    @madhu\n",
    "    def add(self,a,b):\n",
    "        return a+b\n",
    "m = goks()\n",
    "print(m.add(5,9))"
   ]
  }
 ],
 "metadata": {
  "kernelspec": {
   "display_name": "Python 3",
   "language": "python",
   "name": "python3"
  },
  "language_info": {
   "codemirror_mode": {
    "name": "ipython",
    "version": 3
   },
   "file_extension": ".py",
   "mimetype": "text/x-python",
   "name": "python",
   "nbconvert_exporter": "python",
   "pygments_lexer": "ipython3",
   "version": "3.11.9"
  }
 },
 "nbformat": 4,
 "nbformat_minor": 5
}
